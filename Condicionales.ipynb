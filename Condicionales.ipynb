{
 "cells": [
  {
   "cell_type": "markdown",
   "id": "9ed8cac9",
   "metadata": {},
   "source": [
    "# TALLER 3 \n",
    "### ESTRUCTURAS CONDICIONALES "
   ]
  },
  {
   "cell_type": "code",
   "execution_count": 15,
   "id": "a24b9c26",
   "metadata": {},
   "outputs": [
    {
     "name": "stdout",
     "output_type": "stream",
     "text": [
      "Numero de Estrato:2\n",
      "Edad actual:16\n",
      "Ingrese su promedio ponderado:4\n",
      "Vives en Monteria?: no\n",
      "Tu costo de alimentacion y transporte es de $ 101000.0 COP\n"
     ]
    }
   ],
   "source": [
    "# Variables \n",
    "\n",
    "# et = Estrato\n",
    "# age = Edad \n",
    "# pp = Promedio \n",
    "# l = Lugar \n",
    "\n",
    "et = int(input(\"Numero de Estrato:\"))    \n",
    "age = int(input(\"Edad actual:\"))\n",
    "pp = float(input(\"Ingrese su promedio ponderado:\"))\n",
    "l = input(\"Vives en Monteria?: \")\n",
    "\n",
    "    \n",
    "\n",
    "if et == 1 and age <= 18 and l == \"si\":\n",
    "    \n",
    "    c = 5600 * 20\n",
    "    k = 65000 \n",
    "    t = c - k\n",
    "    a = 20000 * 0.9\n",
    "    m = 20000\n",
    "    q = m - a\n",
    "    n = t + q\n",
    "    \n",
    "    print(\"Tu costo de alimentacion y transporte es de $\" , n , \"COP\")\n",
    "    \n",
    "elif et == 1 and age <= 18 and l == \"no\":\n",
    "    c = 7000 * 20\n",
    "    k = 65000 \n",
    "    t = c - k\n",
    "    a = 20000 * 0.9\n",
    "    m = 20000\n",
    "    q = m - a\n",
    "    n = t + q\n",
    "        \n",
    "    \n",
    "    print(\"Tu costo de alimentacion y transporte es de $\" , n , \"COP\")\n",
    "    \n",
    "\n",
    "elif et == 2 and age <= 18 and l == \"si\":\n",
    "    \n",
    "    c = 5600 * 20\n",
    "    k = 45000 \n",
    "    t = c - k\n",
    "    a = 20000 * 0.7\n",
    "    m = 20000\n",
    "    q = m - a\n",
    "    n = t + q\n",
    "        \n",
    "    print(\"Tu costo de alimentacion y transporte es de $\" , n , \"COP\")\n",
    "    \n",
    "elif  et == 2 and age <= 18 and l == \"no\":\n",
    "    \n",
    "    c = 7000 * 20\n",
    "    k = 45000 \n",
    "    t = c - k\n",
    "    a = 20000 * 0.7\n",
    "    m = 20000\n",
    "    q = m - a\n",
    "    n = t + q\n",
    "    print(\"Tu costo de alimentacion y transporte es de $\" , n , \"COP\")"
   ]
  },
  {
   "cell_type": "code",
   "execution_count": null,
   "id": "6f482cfd",
   "metadata": {},
   "outputs": [],
   "source": []
  }
 ],
 "metadata": {
  "kernelspec": {
   "display_name": "Python 3 (ipykernel)",
   "language": "python",
   "name": "python3"
  },
  "language_info": {
   "codemirror_mode": {
    "name": "ipython",
    "version": 3
   },
   "file_extension": ".py",
   "mimetype": "text/x-python",
   "name": "python",
   "nbconvert_exporter": "python",
   "pygments_lexer": "ipython3",
   "version": "3.11.2"
  }
 },
 "nbformat": 4,
 "nbformat_minor": 5
}
